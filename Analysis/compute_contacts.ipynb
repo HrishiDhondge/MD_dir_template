{
 "cells": [
  {
   "cell_type": "markdown",
   "metadata": {},
   "source": [
    "## This notebook computes the contacts between two molecules for the given range and write results separately to each file.  \n",
    "This notebook uses CPPTRAJ to compute the contacts. The following command is used to compute contacts in this notebook:\n",
    "- nativecontacts name prot :molA_range  :molB_range distance 5.0 noimage byresidue writecontacts frame_native_contact.dat"
   ]
  },
  {
   "cell_type": "code",
   "execution_count": 1,
   "metadata": {},
   "outputs": [],
   "source": [
    "import os"
   ]
  },
  {
   "cell_type": "markdown",
   "metadata": {},
   "source": [
    "#### The below cell contains all the inputs required from user. The inputs required are as follows:\n",
    "1. Diretory path\n",
    "2. Topology file\n",
    "3. Trajectory file\n",
    "4. Total number of frames in the given trajectory file\n",
    "5. Molecule A (Protein) residue range\n",
    "6. Molecule B (RNA) residue range\n",
    "7. Frame range  you want to consider as native/beginning of trajectory\n",
    "8. Frame range  you want to consider as non-native/ending of trajectory\n",
    "9. filename to write the CPPTRAJ script\n",
    "10. basename or output pattern for output (contact files) "
   ]
  },
  {
   "cell_type": "code",
   "execution_count": 2,
   "metadata": {},
   "outputs": [],
   "source": [
    "# All variable inputs are in this cell --> Change values accordingly\n",
    "working_dir = '/home/hdhondge/MD_Musashi/Prev_Analysis/Annealing/5X3Z_simA/Analysis/'\n",
    "top_file = 'topology_split.prmtop'  #Topology file --> path relative to working_dir\n",
    "traj_file = 'reduced_cluster2.6.nc'  # Trajectory file with only frames you want to compute contacts for\n",
    "total_frames = 15 # total frames present in trajectory\n",
    "\n",
    "prot_range = '1-78'\n",
    "nt_range = '79-81'\n",
    "\n",
    "native_frame_range = range(1, 2) # excluding last number/int\n",
    "nonnative_frame_range = range(5, 16)  # excluding last number/int\n",
    "\n",
    "file_name = 'contacts.cpptraj' # filename for cpptraj input\n",
    "basename_out = '_native_contact.dat'\n",
    "\n",
    "# Below two files can be used in plotting the contacts\n",
    "nat_file = 'nat.txt'\n",
    "nonnat_file = 'nonnat.txt'"
   ]
  },
  {
   "cell_type": "markdown",
   "metadata": {},
   "source": [
    "#### Below cell contain the function to create a CPPTRAJ script to compute contacts per frame"
   ]
  },
  {
   "cell_type": "code",
   "execution_count": 3,
   "metadata": {},
   "outputs": [],
   "source": [
    "# funtion to create cpptraj input file\n",
    "def create_in_cpptraj(topology, trajectory, frame, total_frames, molA_range, molB_range, basename, file):\n",
    "    with open(file, 'w') as f:\n",
    "        f.write('parm ' + topology +'\\n')\n",
    "        f.write('trajin ' + trajectory + ' ' + str(frame) + ' last ' + str(total_frames + 100) + '\\n')\n",
    "        f.write('nativecontacts name prot :' + molA_range + ' :' + molB_range + \\\n",
    "                ' distance 5.0 noimage byresidue writecontacts ' + str(frame) + basename + '\\n')\n",
    "        f.write('run' + '\\n')\n",
    "        f.write('exit' + '\\n')\n",
    "    \n",
    "    return file\n",
    "    "
   ]
  },
  {
   "cell_type": "markdown",
   "metadata": {},
   "source": [
    "###### The actual code runs from below cell -->"
   ]
  },
  {
   "cell_type": "code",
   "execution_count": 4,
   "metadata": {},
   "outputs": [],
   "source": [
    "os.chdir(working_dir)\n",
    "os.system('conda activate MDsimu')\n",
    "nat = []\n",
    "# For native (first couple of frames) \n",
    "for a in list(native_frame_range):\n",
    "    file = create_in_cpptraj(top_file, traj_file, a, total_frames, prot_range, nt_range, basename_out, file_name)\n",
    "    cmd = 'cpptraj -i '+ file \n",
    "    os.system(cmd)\n",
    "    nat.append(str(a)+basename_out)\n",
    "\n",
    "# writing all output file names in a single file\n",
    "with open(nat_file, 'w') as f:\n",
    "    f.write('\\n'.join(nat))\n",
    "\n",
    "nonnat = []\n",
    "# For nonnative (last couple of frames) \n",
    "for a in list(nonnative_frame_range):\n",
    "    file = create_in_cpptraj(top_file, traj_file, a, total_frames, prot_range, nt_range, basename_out, file_name)\n",
    "    cmd = 'cpptraj -i '+ file \n",
    "    os.system(cmd)\n",
    "    nonnat.append(str(a)+basename_out)\n",
    "\n",
    "# writing all output file names in a single file\n",
    "with open(nonnat_file, 'w') as f:\n",
    "    f.write('\\n'.join(nonnat))\n"
   ]
  },
  {
   "cell_type": "code",
   "execution_count": null,
   "metadata": {},
   "outputs": [],
   "source": []
  }
 ],
 "metadata": {
  "kernelspec": {
   "display_name": "Python 3",
   "language": "python",
   "name": "python3"
  },
  "language_info": {
   "codemirror_mode": {
    "name": "ipython",
    "version": 3
   },
   "file_extension": ".py",
   "mimetype": "text/x-python",
   "name": "python",
   "nbconvert_exporter": "python",
   "pygments_lexer": "ipython3",
   "version": "3.9.10"
  }
 },
 "nbformat": 4,
 "nbformat_minor": 4
}
