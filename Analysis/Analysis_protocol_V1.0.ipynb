{
 "cells": [
  {
   "cell_type": "markdown",
   "metadata": {},
   "source": [
    "### Analysis of Molecular Dynamics Simulations\n",
    "\n",
    "This notebook provides all the steps for the analysis of biomolecular dynamics simulation considering the simulation engine used was NAMD2 or NAMD3. "
   ]
  },
  {
   "cell_type": "markdown",
   "metadata": {},
   "source": [
    "### This step is required only for simulation with periodic boundary conditions\n",
    "\n",
    "__In the simulation runs with periodic boundary conditions turned on, one need to wrap and unwrap the system before the analysis.__\n",
    "\n",
    "__Wrap__ : When the atoms of the system are not all in one periodic image, but are distributed over various images, this function wraps all atoms into the chosen image. It is also possible to change between different representations of the unit cell (orthorhombic or triclinic).\n",
    "\n",
    "__unwrap__ : When overlong bonds (that stretch the whole system) occur and compounds (residues, segments, chains or fragments) are broken in the course of a simulation trajectory because atoms are wrapped around the periodic boundaries, this function will remove large jumps of atoms between consecutive frames.\n",
    "\n",
    "1. To wrap and wrap the molecules we will use __PBCTools plugin from VMD__:\n",
    "\n",
    "  a) Open topology and trajectory file in VMD using following command from the terminal  \n",
    "     `vmd <topology_file>  <list_of_trajectores_in_correct_order>`  \n",
    "    Example: `vmd ../common/5X3Z_mod_ion.prmtop ../04_prod/04_5X3Z_mod_prod.dcd`  \n",
    "  \n",
    "  b) Open TkConsole _(Extensions --> Tk Console)_ from VMD and type following commands on TkConsole   \n",
    "  \n",
    "  c) Wrap the molecule   \n",
    "  `pbc wrap -orthorhombic -centersel \"protein or nucleic\" -center com -compound residue -all`   \n",
    "  For more information about options refer to [here](https://www.ks.uiuc.edu/Research/vmd/plugins/pbctools/).  \n",
    "  \n",
    "  d) Unwrap the protein-nucleic atoms   \n",
    "  `pbc unwrap -sel \"protein or nucleic\"`  \n",
    "\n",
    "  e) Save the trajctory in new trajectory file  \n",
    "  `animate write dcd Analysis/04_prod_unwrap.dcd`  \n",
    "  \n",
    "  f) Exit  \n",
    "  `quit`  \n"
   ]
  },
  {
   "cell_type": "markdown",
   "metadata": {},
   "source": [
    "__If there are multiple runs/parts using extended simulation for the same simulation all the runs/parts of the simulation can be merged together using CATDCD tool__\n",
    "\n",
    "### CATDCD  \n",
    "1. Concatenate several trajectory files  \n",
    "`catdcd -o <output_name.dcd> <list_of_trajectory_files.dcd>`\n",
    "2. Concatenate several trajectory files and reduce the size  \n",
    " `catdcd -stride 10 -o <output_name.dcd> <list_of_trajectory_files.dcd>`\n",
    "\n",
    "### VMD\n",
    "1. Open all the parts of the trajectory  \n",
    "`vmd <topology_file.prmtop> <list_of_trajectory_files.dcd>`\n",
    "\n",
    "2. Save the merged trajectory   \n",
    "`click on File --> Save coordinates --> (File type as dcd) & (selected atoms as all) --> Click on Save`"
   ]
  },
  {
   "cell_type": "markdown",
   "metadata": {},
   "source": [
    " __For analysis part, we can remove water and ion molecules from the trajectory and topology files__ \n",
    "We will use __CPPTRAJ__ for doing this. All the scripts to analyze using CPPTRAJ can be found [here](link). \n",
    "1. __strip_wat_ions_ptraj.in__  \n",
    "\n",
    "This script does the following -\n",
    "    - centers and image the trajectory using autoimage, \n",
    "    - removes the WAT, Na+, Cl- and H atoms from trajectory \n",
    "    - aligns the system on core (given residue range)  \n",
    "  \n",
    "2. __strip_topol_ptraj.in__  \n",
    "This script removes the WAT, Na+, Cl- and H atoms from topology file.  \n",
    "  \n",
    "\n",
    "3. __rms_ptraj.in__  \n",
    "This script aligns the whole system on core (given residue range) and computes following -  \n",
    " * __RMSF__\n",
    "    * RMSF by @CA and assigns bfactor\n",
    "    * RMSF by residue \n",
    " * __RMSD__\n",
    "    * Perresidue RMSD for nucleotides (given residue range)\n",
    "    * RMSD for whole complex/system (aligned on core)\n",
    "    * RMSD for protein (aligned on core)\n",
    "    * RMSD for nucleic acid (aligned on core)\n",
    "    * RMSD for nucleic acid (aligned on nucleic acid)\n",
    " \n",
    " \n",
    "4. __split_traj_ptraj.in__  \n",
    "This script splits/divide the trajectory into several parts based on the given range.  \n",
    "\n",
    "\n",
    "5. __strip_atoms_ptraj.in__  \n",
    "This script removes the specific atoms from the trajectory."
   ]
  },
  {
   "cell_type": "markdown",
   "metadata": {},
   "source": [
    "__Review how many frames are in a trajectory file__\n",
    "\n",
    "`cpptraj -p topology-file.prmtop -y coordinate-file.dcd -tl`"
   ]
  },
  {
   "cell_type": "markdown",
   "metadata": {},
   "source": [
    "Create plots from the data generated "
   ]
  },
  {
   "cell_type": "code",
   "execution_count": null,
   "metadata": {},
   "outputs": [],
   "source": []
  },
  {
   "cell_type": "code",
   "execution_count": null,
   "metadata": {},
   "outputs": [],
   "source": []
  },
  {
   "cell_type": "code",
   "execution_count": null,
   "metadata": {},
   "outputs": [],
   "source": []
  },
  {
   "cell_type": "code",
   "execution_count": null,
   "metadata": {},
   "outputs": [],
   "source": []
  },
  {
   "cell_type": "code",
   "execution_count": null,
   "metadata": {},
   "outputs": [],
   "source": []
  }
 ],
 "metadata": {
  "kernelspec": {
   "display_name": "Python 3",
   "language": "python",
   "name": "python3"
  },
  "language_info": {
   "codemirror_mode": {
    "name": "ipython",
    "version": 3
   },
   "file_extension": ".py",
   "mimetype": "text/x-python",
   "name": "python",
   "nbconvert_exporter": "python",
   "pygments_lexer": "ipython3",
   "version": "3.9.10"
  }
 },
 "nbformat": 4,
 "nbformat_minor": 4
}
